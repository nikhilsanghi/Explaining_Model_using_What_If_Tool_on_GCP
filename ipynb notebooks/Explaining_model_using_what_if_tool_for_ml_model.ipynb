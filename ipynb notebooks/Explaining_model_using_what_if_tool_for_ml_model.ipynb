{
 "cells": [
  {
   "cell_type": "code",
   "execution_count": 1,
   "id": "dc820332-f02d-4791-9e2e-9619549ea4cb",
   "metadata": {},
   "outputs": [],
   "source": [
    "# Importing all the required libraries\n",
    "\n",
    "import pandas as pd\n",
    "import xgboost as xgb\n",
    "import numpy as np\n",
    "import collections\n",
    "\n",
    "# importing the what if tool to understand and explain the model that will be built\n",
    "import witwidget\n",
    "\n",
    "from sklearn.model_selection import train_test_split\n",
    "from sklearn.metrics import accuracy_score, confusion_matrix\n",
    "from sklearn.utils import shuffle\n",
    "\n",
    "# importing WhatIfTool visualisation tools\n",
    "from witwidget.notebook.visualization import WitWidget, WitConfigBuilder"
   ]
  },
  {
   "cell_type": "code",
   "execution_count": 2,
   "id": "6c014930-14e3-4542-81c4-3c34305c286e",
   "metadata": {},
   "outputs": [
    {
     "name": "stdout",
     "output_type": "stream",
     "text": [
      "Copying gs://mortgage_dataset_files/mortgage-small.csv...\n",
      "/ [1 files][330.8 MiB/330.8 MiB]                                                \n",
      "Operation completed over 1 objects/330.8 MiB.                                    \n"
     ]
    }
   ],
   "source": [
    "# The mortgage dataset is fetched from \"https://www.ffiec.gov/hmda/hmdaflat.htm\" originally\n",
    "# Importing the dataset from cloud storage\n",
    "!gsutil cp 'gs://mortgage_dataset_files/mortgage-small.csv' ."
   ]
  },
  {
   "cell_type": "code",
   "execution_count": 22,
   "id": "1ebfd2c0-35e5-4bb0-88ce-489cee4f24c9",
   "metadata": {},
   "outputs": [],
   "source": [
    "# Column Names of the dataset with their data types\n",
    "\n",
    "COLUMN_NAMES = collections.OrderedDict({\n",
    " 'as_of_year': np.int16,\n",
    " 'agency_code': 'category',\n",
    " 'loan_type': 'category',\n",
    " 'property_type': 'category',\n",
    " 'loan_purpose': 'category',\n",
    " 'occupancy': np.int8,\n",
    " 'loan_amt_thousands': np.float64,\n",
    " 'preapproval': 'category',\n",
    " 'county_code': np.float64,\n",
    " 'applicant_income_thousands': np.float64,\n",
    " 'purchaser_type': 'category',\n",
    " 'hoepa_status': 'category',\n",
    " 'lien_status': 'category',\n",
    " 'population': np.float64,\n",
    " 'ffiec_median_fam_income': np.float64,\n",
    " 'tract_to_msa_income_pct': np.float64,\n",
    " 'num_owner_occupied_units': np.float64,\n",
    " 'num_1_to_4_family_units': np.float64,\n",
    " 'approved': np.int8\n",
    "})"
   ]
  },
  {
   "cell_type": "code",
   "execution_count": 23,
   "id": "57e568ff-c20a-4422-bf8b-1b88f2169210",
   "metadata": {},
   "outputs": [
    {
     "data": {
      "text/html": [
       "<div>\n",
       "<style scoped>\n",
       "    .dataframe tbody tr th:only-of-type {\n",
       "        vertical-align: middle;\n",
       "    }\n",
       "\n",
       "    .dataframe tbody tr th {\n",
       "        vertical-align: top;\n",
       "    }\n",
       "\n",
       "    .dataframe thead th {\n",
       "        text-align: right;\n",
       "    }\n",
       "</style>\n",
       "<table border=\"1\" class=\"dataframe\">\n",
       "  <thead>\n",
       "    <tr style=\"text-align: right;\">\n",
       "      <th></th>\n",
       "      <th>as_of_year</th>\n",
       "      <th>agency_code</th>\n",
       "      <th>loan_type</th>\n",
       "      <th>property_type</th>\n",
       "      <th>loan_purpose</th>\n",
       "      <th>occupancy</th>\n",
       "      <th>loan_amt_thousands</th>\n",
       "      <th>preapproval</th>\n",
       "      <th>county_code</th>\n",
       "      <th>applicant_income_thousands</th>\n",
       "      <th>purchaser_type</th>\n",
       "      <th>hoepa_status</th>\n",
       "      <th>lien_status</th>\n",
       "      <th>population</th>\n",
       "      <th>ffiec_median_fam_income</th>\n",
       "      <th>tract_to_msa_income_pct</th>\n",
       "      <th>num_owner_occupied_units</th>\n",
       "      <th>num_1_to_4_family_units</th>\n",
       "      <th>approved</th>\n",
       "    </tr>\n",
       "  </thead>\n",
       "  <tbody>\n",
       "    <tr>\n",
       "      <th>310650</th>\n",
       "      <td>2016</td>\n",
       "      <td>Consumer Financial Protection Bureau (CFPB)</td>\n",
       "      <td>Conventional (any loan other than FHA, VA, FSA...</td>\n",
       "      <td>One to four-family (other than manufactured ho...</td>\n",
       "      <td>Refinancing</td>\n",
       "      <td>1</td>\n",
       "      <td>110.0</td>\n",
       "      <td>Not applicable</td>\n",
       "      <td>119.0</td>\n",
       "      <td>55.0</td>\n",
       "      <td>Freddie Mac (FHLMC)</td>\n",
       "      <td>Not a HOEPA loan</td>\n",
       "      <td>Secured by a first lien</td>\n",
       "      <td>5930.0</td>\n",
       "      <td>64100.0</td>\n",
       "      <td>98.81</td>\n",
       "      <td>1305.0</td>\n",
       "      <td>1631.0</td>\n",
       "      <td>1</td>\n",
       "    </tr>\n",
       "    <tr>\n",
       "      <th>630129</th>\n",
       "      <td>2016</td>\n",
       "      <td>Department of Housing and Urban Development (HUD)</td>\n",
       "      <td>Conventional (any loan other than FHA, VA, FSA...</td>\n",
       "      <td>One to four-family (other than manufactured ho...</td>\n",
       "      <td>Home purchase</td>\n",
       "      <td>1</td>\n",
       "      <td>480.0</td>\n",
       "      <td>Not applicable</td>\n",
       "      <td>33.0</td>\n",
       "      <td>270.0</td>\n",
       "      <td>Loan was not originated or was not sold in cal...</td>\n",
       "      <td>Not a HOEPA loan</td>\n",
       "      <td>Secured by a first lien</td>\n",
       "      <td>4791.0</td>\n",
       "      <td>90300.0</td>\n",
       "      <td>144.06</td>\n",
       "      <td>1420.0</td>\n",
       "      <td>1450.0</td>\n",
       "      <td>0</td>\n",
       "    </tr>\n",
       "    <tr>\n",
       "      <th>715484</th>\n",
       "      <td>2016</td>\n",
       "      <td>Federal Deposit Insurance Corporation (FDIC)</td>\n",
       "      <td>Conventional (any loan other than FHA, VA, FSA...</td>\n",
       "      <td>One to four-family (other than manufactured ho...</td>\n",
       "      <td>Refinancing</td>\n",
       "      <td>2</td>\n",
       "      <td>240.0</td>\n",
       "      <td>Not applicable</td>\n",
       "      <td>59.0</td>\n",
       "      <td>96.0</td>\n",
       "      <td>Commercial bank, savings bank or savings assoc...</td>\n",
       "      <td>Not a HOEPA loan</td>\n",
       "      <td>Secured by a first lien</td>\n",
       "      <td>3439.0</td>\n",
       "      <td>105700.0</td>\n",
       "      <td>104.62</td>\n",
       "      <td>853.0</td>\n",
       "      <td>1076.0</td>\n",
       "      <td>1</td>\n",
       "    </tr>\n",
       "    <tr>\n",
       "      <th>887708</th>\n",
       "      <td>2016</td>\n",
       "      <td>Office of the Comptroller of the Currency (OCC)</td>\n",
       "      <td>Conventional (any loan other than FHA, VA, FSA...</td>\n",
       "      <td>One to four-family (other than manufactured ho...</td>\n",
       "      <td>Refinancing</td>\n",
       "      <td>1</td>\n",
       "      <td>76.0</td>\n",
       "      <td>Not applicable</td>\n",
       "      <td>65.0</td>\n",
       "      <td>85.0</td>\n",
       "      <td>Loan was not originated or was not sold in cal...</td>\n",
       "      <td>Not a HOEPA loan</td>\n",
       "      <td>Secured by a subordinate lien</td>\n",
       "      <td>3952.0</td>\n",
       "      <td>61300.0</td>\n",
       "      <td>90.93</td>\n",
       "      <td>1272.0</td>\n",
       "      <td>1666.0</td>\n",
       "      <td>1</td>\n",
       "    </tr>\n",
       "    <tr>\n",
       "      <th>719598</th>\n",
       "      <td>2016</td>\n",
       "      <td>National Credit Union Administration (NCUA)</td>\n",
       "      <td>Conventional (any loan other than FHA, VA, FSA...</td>\n",
       "      <td>One to four-family (other than manufactured ho...</td>\n",
       "      <td>Refinancing</td>\n",
       "      <td>1</td>\n",
       "      <td>100.0</td>\n",
       "      <td>Not applicable</td>\n",
       "      <td>127.0</td>\n",
       "      <td>70.0</td>\n",
       "      <td>Loan was not originated or was not sold in cal...</td>\n",
       "      <td>Not a HOEPA loan</td>\n",
       "      <td>Secured by a first lien</td>\n",
       "      <td>2422.0</td>\n",
       "      <td>46400.0</td>\n",
       "      <td>88.37</td>\n",
       "      <td>650.0</td>\n",
       "      <td>1006.0</td>\n",
       "      <td>1</td>\n",
       "    </tr>\n",
       "  </tbody>\n",
       "</table>\n",
       "</div>"
      ],
      "text/plain": [
       "        as_of_year                                        agency_code  \\\n",
       "310650        2016        Consumer Financial Protection Bureau (CFPB)   \n",
       "630129        2016  Department of Housing and Urban Development (HUD)   \n",
       "715484        2016       Federal Deposit Insurance Corporation (FDIC)   \n",
       "887708        2016    Office of the Comptroller of the Currency (OCC)   \n",
       "719598        2016        National Credit Union Administration (NCUA)   \n",
       "\n",
       "                                                loan_type  \\\n",
       "310650  Conventional (any loan other than FHA, VA, FSA...   \n",
       "630129  Conventional (any loan other than FHA, VA, FSA...   \n",
       "715484  Conventional (any loan other than FHA, VA, FSA...   \n",
       "887708  Conventional (any loan other than FHA, VA, FSA...   \n",
       "719598  Conventional (any loan other than FHA, VA, FSA...   \n",
       "\n",
       "                                            property_type   loan_purpose  \\\n",
       "310650  One to four-family (other than manufactured ho...    Refinancing   \n",
       "630129  One to four-family (other than manufactured ho...  Home purchase   \n",
       "715484  One to four-family (other than manufactured ho...    Refinancing   \n",
       "887708  One to four-family (other than manufactured ho...    Refinancing   \n",
       "719598  One to four-family (other than manufactured ho...    Refinancing   \n",
       "\n",
       "        occupancy  loan_amt_thousands     preapproval  county_code  \\\n",
       "310650          1               110.0  Not applicable        119.0   \n",
       "630129          1               480.0  Not applicable         33.0   \n",
       "715484          2               240.0  Not applicable         59.0   \n",
       "887708          1                76.0  Not applicable         65.0   \n",
       "719598          1               100.0  Not applicable        127.0   \n",
       "\n",
       "        applicant_income_thousands  \\\n",
       "310650                        55.0   \n",
       "630129                       270.0   \n",
       "715484                        96.0   \n",
       "887708                        85.0   \n",
       "719598                        70.0   \n",
       "\n",
       "                                           purchaser_type      hoepa_status  \\\n",
       "310650                                Freddie Mac (FHLMC)  Not a HOEPA loan   \n",
       "630129  Loan was not originated or was not sold in cal...  Not a HOEPA loan   \n",
       "715484  Commercial bank, savings bank or savings assoc...  Not a HOEPA loan   \n",
       "887708  Loan was not originated or was not sold in cal...  Not a HOEPA loan   \n",
       "719598  Loan was not originated or was not sold in cal...  Not a HOEPA loan   \n",
       "\n",
       "                          lien_status  population  ffiec_median_fam_income  \\\n",
       "310650        Secured by a first lien      5930.0                  64100.0   \n",
       "630129        Secured by a first lien      4791.0                  90300.0   \n",
       "715484        Secured by a first lien      3439.0                 105700.0   \n",
       "887708  Secured by a subordinate lien      3952.0                  61300.0   \n",
       "719598        Secured by a first lien      2422.0                  46400.0   \n",
       "\n",
       "        tract_to_msa_income_pct  num_owner_occupied_units  \\\n",
       "310650                    98.81                    1305.0   \n",
       "630129                   144.06                    1420.0   \n",
       "715484                   104.62                     853.0   \n",
       "887708                    90.93                    1272.0   \n",
       "719598                    88.37                     650.0   \n",
       "\n",
       "        num_1_to_4_family_units  approved  \n",
       "310650                   1631.0         1  \n",
       "630129                   1450.0         0  \n",
       "715484                   1076.0         1  \n",
       "887708                   1666.0         1  \n",
       "719598                   1006.0         1  "
      ]
     },
     "execution_count": 23,
     "metadata": {},
     "output_type": "execute_result"
    }
   ],
   "source": [
    "# ingesting the dataset \n",
    "data = pd.read_csv(\n",
    " 'mortgage-small.csv',\n",
    " index_col=False,\n",
    " dtype=COLUMN_NAMES\n",
    ")\n",
    "\n",
    "# Removing all the null values \n",
    "data = data.dropna()\n",
    "\n",
    "# shuffling the dataset\n",
    "data = shuffle(data, random_state=2)\n",
    "data.head()"
   ]
  },
  {
   "cell_type": "code",
   "execution_count": 24,
   "id": "8bbfbf4d-b954-4715-9a21-06edbf35d9d3",
   "metadata": {},
   "outputs": [
    {
     "name": "stdout",
     "output_type": "stream",
     "text": [
      "1    665389\n",
      "0    334610\n",
      "Name: approved, dtype: int64\n"
     ]
    }
   ],
   "source": [
    "# Class column is our target column. 0 stands for loan not approved and 1 stands for loan approved\n",
    "print(data['approved'].value_counts())\n",
    "\n",
    "# segregating the labels and the data\n",
    "labels = data['approved'].values\n",
    "\n",
    "# data without the target column\n",
    "data = data.drop(columns=['approved'])"
   ]
  },
  {
   "cell_type": "code",
   "execution_count": 26,
   "id": "d58c2168-d035-450c-9c05-d1c9d9b48534",
   "metadata": {},
   "outputs": [
    {
     "data": {
      "text/html": [
       "<div>\n",
       "<style scoped>\n",
       "    .dataframe tbody tr th:only-of-type {\n",
       "        vertical-align: middle;\n",
       "    }\n",
       "\n",
       "    .dataframe tbody tr th {\n",
       "        vertical-align: top;\n",
       "    }\n",
       "\n",
       "    .dataframe thead th {\n",
       "        text-align: right;\n",
       "    }\n",
       "</style>\n",
       "<table border=\"1\" class=\"dataframe\">\n",
       "  <thead>\n",
       "    <tr style=\"text-align: right;\">\n",
       "      <th></th>\n",
       "      <th>as_of_year</th>\n",
       "      <th>occupancy</th>\n",
       "      <th>loan_amt_thousands</th>\n",
       "      <th>county_code</th>\n",
       "      <th>applicant_income_thousands</th>\n",
       "      <th>population</th>\n",
       "      <th>ffiec_median_fam_income</th>\n",
       "      <th>tract_to_msa_income_pct</th>\n",
       "      <th>num_owner_occupied_units</th>\n",
       "      <th>num_1_to_4_family_units</th>\n",
       "      <th>...</th>\n",
       "      <th>purchaser_type_Life insurance company, credit union, mortgage bank, or finance company</th>\n",
       "      <th>purchaser_type_Loan was not originated or was not sold in calendar year covered by register</th>\n",
       "      <th>purchaser_type_Other type of purchaser</th>\n",
       "      <th>purchaser_type_Private securitization</th>\n",
       "      <th>hoepa_status_HOEPA loan</th>\n",
       "      <th>hoepa_status_Not a HOEPA loan</th>\n",
       "      <th>lien_status_Not applicable (purchased loans)</th>\n",
       "      <th>lien_status_Not secured by a lien</th>\n",
       "      <th>lien_status_Secured by a first lien</th>\n",
       "      <th>lien_status_Secured by a subordinate lien</th>\n",
       "    </tr>\n",
       "  </thead>\n",
       "  <tbody>\n",
       "    <tr>\n",
       "      <th>310650</th>\n",
       "      <td>2016</td>\n",
       "      <td>1</td>\n",
       "      <td>110.0</td>\n",
       "      <td>119.0</td>\n",
       "      <td>55.0</td>\n",
       "      <td>5930.0</td>\n",
       "      <td>64100.0</td>\n",
       "      <td>98.81</td>\n",
       "      <td>1305.0</td>\n",
       "      <td>1631.0</td>\n",
       "      <td>...</td>\n",
       "      <td>0</td>\n",
       "      <td>0</td>\n",
       "      <td>0</td>\n",
       "      <td>0</td>\n",
       "      <td>0</td>\n",
       "      <td>1</td>\n",
       "      <td>0</td>\n",
       "      <td>0</td>\n",
       "      <td>1</td>\n",
       "      <td>0</td>\n",
       "    </tr>\n",
       "    <tr>\n",
       "      <th>630129</th>\n",
       "      <td>2016</td>\n",
       "      <td>1</td>\n",
       "      <td>480.0</td>\n",
       "      <td>33.0</td>\n",
       "      <td>270.0</td>\n",
       "      <td>4791.0</td>\n",
       "      <td>90300.0</td>\n",
       "      <td>144.06</td>\n",
       "      <td>1420.0</td>\n",
       "      <td>1450.0</td>\n",
       "      <td>...</td>\n",
       "      <td>0</td>\n",
       "      <td>1</td>\n",
       "      <td>0</td>\n",
       "      <td>0</td>\n",
       "      <td>0</td>\n",
       "      <td>1</td>\n",
       "      <td>0</td>\n",
       "      <td>0</td>\n",
       "      <td>1</td>\n",
       "      <td>0</td>\n",
       "    </tr>\n",
       "    <tr>\n",
       "      <th>715484</th>\n",
       "      <td>2016</td>\n",
       "      <td>2</td>\n",
       "      <td>240.0</td>\n",
       "      <td>59.0</td>\n",
       "      <td>96.0</td>\n",
       "      <td>3439.0</td>\n",
       "      <td>105700.0</td>\n",
       "      <td>104.62</td>\n",
       "      <td>853.0</td>\n",
       "      <td>1076.0</td>\n",
       "      <td>...</td>\n",
       "      <td>0</td>\n",
       "      <td>0</td>\n",
       "      <td>0</td>\n",
       "      <td>0</td>\n",
       "      <td>0</td>\n",
       "      <td>1</td>\n",
       "      <td>0</td>\n",
       "      <td>0</td>\n",
       "      <td>1</td>\n",
       "      <td>0</td>\n",
       "    </tr>\n",
       "    <tr>\n",
       "      <th>887708</th>\n",
       "      <td>2016</td>\n",
       "      <td>1</td>\n",
       "      <td>76.0</td>\n",
       "      <td>65.0</td>\n",
       "      <td>85.0</td>\n",
       "      <td>3952.0</td>\n",
       "      <td>61300.0</td>\n",
       "      <td>90.93</td>\n",
       "      <td>1272.0</td>\n",
       "      <td>1666.0</td>\n",
       "      <td>...</td>\n",
       "      <td>0</td>\n",
       "      <td>1</td>\n",
       "      <td>0</td>\n",
       "      <td>0</td>\n",
       "      <td>0</td>\n",
       "      <td>1</td>\n",
       "      <td>0</td>\n",
       "      <td>0</td>\n",
       "      <td>0</td>\n",
       "      <td>1</td>\n",
       "    </tr>\n",
       "    <tr>\n",
       "      <th>719598</th>\n",
       "      <td>2016</td>\n",
       "      <td>1</td>\n",
       "      <td>100.0</td>\n",
       "      <td>127.0</td>\n",
       "      <td>70.0</td>\n",
       "      <td>2422.0</td>\n",
       "      <td>46400.0</td>\n",
       "      <td>88.37</td>\n",
       "      <td>650.0</td>\n",
       "      <td>1006.0</td>\n",
       "      <td>...</td>\n",
       "      <td>0</td>\n",
       "      <td>1</td>\n",
       "      <td>0</td>\n",
       "      <td>0</td>\n",
       "      <td>0</td>\n",
       "      <td>1</td>\n",
       "      <td>0</td>\n",
       "      <td>0</td>\n",
       "      <td>1</td>\n",
       "      <td>0</td>\n",
       "    </tr>\n",
       "  </tbody>\n",
       "</table>\n",
       "<p>5 rows × 44 columns</p>\n",
       "</div>"
      ],
      "text/plain": [
       "        as_of_year  occupancy  loan_amt_thousands  county_code  \\\n",
       "310650        2016          1               110.0        119.0   \n",
       "630129        2016          1               480.0         33.0   \n",
       "715484        2016          2               240.0         59.0   \n",
       "887708        2016          1                76.0         65.0   \n",
       "719598        2016          1               100.0        127.0   \n",
       "\n",
       "        applicant_income_thousands  population  ffiec_median_fam_income  \\\n",
       "310650                        55.0      5930.0                  64100.0   \n",
       "630129                       270.0      4791.0                  90300.0   \n",
       "715484                        96.0      3439.0                 105700.0   \n",
       "887708                        85.0      3952.0                  61300.0   \n",
       "719598                        70.0      2422.0                  46400.0   \n",
       "\n",
       "        tract_to_msa_income_pct  num_owner_occupied_units  \\\n",
       "310650                    98.81                    1305.0   \n",
       "630129                   144.06                    1420.0   \n",
       "715484                   104.62                     853.0   \n",
       "887708                    90.93                    1272.0   \n",
       "719598                    88.37                     650.0   \n",
       "\n",
       "        num_1_to_4_family_units  ...  \\\n",
       "310650                   1631.0  ...   \n",
       "630129                   1450.0  ...   \n",
       "715484                   1076.0  ...   \n",
       "887708                   1666.0  ...   \n",
       "719598                   1006.0  ...   \n",
       "\n",
       "        purchaser_type_Life insurance company, credit union, mortgage bank, or finance company  \\\n",
       "310650                                                  0                                        \n",
       "630129                                                  0                                        \n",
       "715484                                                  0                                        \n",
       "887708                                                  0                                        \n",
       "719598                                                  0                                        \n",
       "\n",
       "        purchaser_type_Loan was not originated or was not sold in calendar year covered by register  \\\n",
       "310650                                                  0                                             \n",
       "630129                                                  1                                             \n",
       "715484                                                  0                                             \n",
       "887708                                                  1                                             \n",
       "719598                                                  1                                             \n",
       "\n",
       "        purchaser_type_Other type of purchaser  \\\n",
       "310650                                       0   \n",
       "630129                                       0   \n",
       "715484                                       0   \n",
       "887708                                       0   \n",
       "719598                                       0   \n",
       "\n",
       "        purchaser_type_Private securitization  hoepa_status_HOEPA loan  \\\n",
       "310650                                      0                        0   \n",
       "630129                                      0                        0   \n",
       "715484                                      0                        0   \n",
       "887708                                      0                        0   \n",
       "719598                                      0                        0   \n",
       "\n",
       "        hoepa_status_Not a HOEPA loan  \\\n",
       "310650                              1   \n",
       "630129                              1   \n",
       "715484                              1   \n",
       "887708                              1   \n",
       "719598                              1   \n",
       "\n",
       "        lien_status_Not applicable (purchased loans)  \\\n",
       "310650                                             0   \n",
       "630129                                             0   \n",
       "715484                                             0   \n",
       "887708                                             0   \n",
       "719598                                             0   \n",
       "\n",
       "        lien_status_Not secured by a lien  \\\n",
       "310650                                  0   \n",
       "630129                                  0   \n",
       "715484                                  0   \n",
       "887708                                  0   \n",
       "719598                                  0   \n",
       "\n",
       "        lien_status_Secured by a first lien  \\\n",
       "310650                                    1   \n",
       "630129                                    1   \n",
       "715484                                    1   \n",
       "887708                                    0   \n",
       "719598                                    1   \n",
       "\n",
       "        lien_status_Secured by a subordinate lien  \n",
       "310650                                          0  \n",
       "630129                                          0  \n",
       "715484                                          0  \n",
       "887708                                          1  \n",
       "719598                                          0  \n",
       "\n",
       "[5 rows x 44 columns]"
      ]
     },
     "execution_count": 26,
     "metadata": {},
     "output_type": "execute_result"
    }
   ],
   "source": [
    "# changing all the categorical columns into dummy variables as XGboost only takes in numerical values\n",
    "dummy_columns = list(data.dtypes[data.dtypes == 'category'].index)\n",
    "data = pd.get_dummies(data, columns=dummy_columns)\n",
    "\n",
    "data.head()"
   ]
  },
  {
   "cell_type": "code",
   "execution_count": 29,
   "id": "40465cc7-7a6a-4bbc-adeb-016342617b80",
   "metadata": {},
   "outputs": [],
   "source": [
    "# splitting the training and testing data\n",
    "x,y = data.values,labels\n",
    "x_train,x_test,y_train,y_test = train_test_split(x,y)"
   ]
  },
  {
   "cell_type": "code",
   "execution_count": 32,
   "id": "06185034-aefb-4821-b74e-6050120c03ba",
   "metadata": {},
   "outputs": [],
   "source": [
    "# intialising the classifier model\n",
    "# chosing logistic regression as objective\n",
    "model = xgb.XGBClassifier(\n",
    "    objective='reg:logistic'\n",
    ")"
   ]
  },
  {
   "cell_type": "code",
   "execution_count": 33,
   "id": "cd0f4232-ec56-46dc-bcba-59efe1fd7afa",
   "metadata": {},
   "outputs": [
    {
     "name": "stderr",
     "output_type": "stream",
     "text": [
      "/opt/conda/lib/python3.7/site-packages/xgboost/sklearn.py:1224: UserWarning: The use of label encoder in XGBClassifier is deprecated and will be removed in a future release. To remove this warning, do the following: 1) Pass option use_label_encoder=False when constructing XGBClassifier object; and 2) Encode your labels (y) as integers starting with 0, i.e. 0, 1, 2, ..., [num_class - 1].\n",
      "  warnings.warn(label_encoder_deprecation_msg, UserWarning)\n"
     ]
    },
    {
     "data": {
      "text/plain": [
       "XGBClassifier(base_score=0.5, booster='gbtree', colsample_bylevel=1,\n",
       "              colsample_bynode=1, colsample_bytree=1, enable_categorical=False,\n",
       "              gamma=0, gpu_id=-1, importance_type=None,\n",
       "              interaction_constraints='', learning_rate=0.300000012,\n",
       "              max_delta_step=0, max_depth=6, min_child_weight=1, missing=nan,\n",
       "              monotone_constraints='()', n_estimators=100, n_jobs=4,\n",
       "              num_parallel_tree=1, objective='reg:logistic', predictor='auto',\n",
       "              random_state=0, reg_alpha=0, reg_lambda=1, scale_pos_weight=1,\n",
       "              subsample=1, tree_method='exact', validate_parameters=1,\n",
       "              verbosity=None)"
      ]
     },
     "execution_count": 33,
     "metadata": {},
     "output_type": "execute_result"
    }
   ],
   "source": [
    "# fitting the model on the training data\n",
    "model.fit(x_train, y_train)"
   ]
  },
  {
   "cell_type": "markdown",
   "id": "32f32473-ae46-4e23-aed3-54d4122915d7",
   "metadata": {},
   "source": [
    "We obtain the model with the above mentioned parameters"
   ]
  },
  {
   "cell_type": "code",
   "execution_count": 34,
   "id": "6537a323-6c91-4872-99ed-4ce5352b78b0",
   "metadata": {},
   "outputs": [
    {
     "name": "stdout",
     "output_type": "stream",
     "text": [
      "0.874308 \n",
      "\n"
     ]
    }
   ],
   "source": [
    "# Predicting on our testing data\n",
    "y_pred = model.predict(x_test)\n",
    "acc = accuracy_score(y_test, y_pred.round())\n",
    "print(acc, '\\n')"
   ]
  },
  {
   "cell_type": "markdown",
   "id": "afb85e1e-d974-49c5-9582-9ab67d4e44d6",
   "metadata": {},
   "source": [
    "We obtained an accuracy of 87.4% which is more than the (approved/approved+not_approved) ratio which is 66%, this means our model has learnt somethinf from the data is not guseeing randomly."
   ]
  },
  {
   "cell_type": "code",
   "execution_count": 35,
   "id": "f84c7de6-052e-4e9f-af53-1bde44087510",
   "metadata": {},
   "outputs": [],
   "source": [
    "# saving the model in the memory\n",
    "model.save_model('model.bst')"
   ]
  },
  {
   "cell_type": "code",
   "execution_count": 36,
   "id": "57bf6e76-dd7c-4f5e-b231-3f869a9ce579",
   "metadata": {},
   "outputs": [],
   "source": [
    "# We are only taking first 2000 examples to understand our model with \"WhatIfTool\"\n",
    "\n",
    "num_wit_examples = 2000\n",
    "\n",
    "# creating a hiorizontal stack of our test examples and reshaping \n",
    "test_examples = np.hstack((x_test[:num_wit_examples],y_test[:num_wit_examples].reshape(-1,1)))\n"
   ]
  },
  {
   "cell_type": "code",
   "execution_count": 38,
   "id": "9d219edf-678d-4411-b316-5255b9fed888",
   "metadata": {},
   "outputs": [
    {
     "data": {
      "text/html": [
       "<style>.container { width:100% !important; }</style>"
      ],
      "text/plain": [
       "<IPython.core.display.HTML object>"
      ]
     },
     "metadata": {},
     "output_type": "display_data"
    },
    {
     "data": {
      "application/vnd.jupyter.widget-view+json": {
       "model_id": "4c2b732d4e644ac5aa78f984b86d51c3",
       "version_major": 2,
       "version_minor": 0
      },
      "text/plain": [
       "WitWidget(config={'model_type': 'classification', 'label_vocab': ['denied', 'approved'], 'feature_names': ['as…"
      ]
     },
     "metadata": {},
     "output_type": "display_data"
    }
   ],
   "source": [
    "# configuring our WIT builder to analyse the model\n",
    "config_builder = (WitConfigBuilder(test_examples.tolist(), data.columns.tolist() + ['mortgage_status'])\n",
    "  .set_custom_predict_fn(model.predict_proba)\n",
    "  .set_target_feature('mortgage_status')\n",
    "  .set_label_vocab(['denied', 'approved']))\n",
    "# building the WIT Widget to visualise the model\n",
    "WitWidget(config_builder, height=800)"
   ]
  },
  {
   "cell_type": "code",
   "execution_count": 40,
   "id": "8624af42-1985-4093-a39f-3eeea5a98452",
   "metadata": {},
   "outputs": [],
   "source": [
    "# initialising the variables for our GCP project\n",
    "GCP_PROJECT = 'vertex-ai-projects'\n",
    "MODEL_BUCKET = 'gs://xgb_mortgage_vertex_ai_projects'\n",
    "MODEL_NAME = 'xgb_mortgage'"
   ]
  },
  {
   "cell_type": "code",
   "execution_count": 41,
   "id": "9d5d824e-1b91-447d-89b0-e39897aaff92",
   "metadata": {},
   "outputs": [
    {
     "name": "stdout",
     "output_type": "stream",
     "text": [
      "Creating gs://xgb_mortgage_vertex_ai_projects/...\n",
      "ServiceException: 409 A Cloud Storage bucket named 'xgb_mortgage_vertex_ai_projects' already exists. Try another name. Bucket names must be globally unique across all Google Cloud projects, including those outside of your organization.\n"
     ]
    }
   ],
   "source": [
    "!gsutil mb -l us-central1 $MODEL_BUCKET"
   ]
  },
  {
   "cell_type": "code",
   "execution_count": 42,
   "id": "c2e47e6b-b064-4eb2-9d19-74fccd5c39da",
   "metadata": {},
   "outputs": [
    {
     "name": "stdout",
     "output_type": "stream",
     "text": [
      "Copying file://./model.bst [Content-Type=application/octet-stream]...\n",
      "/ [1 files][290.6 KiB/290.6 KiB]                                                \n",
      "Operation completed over 1 objects/290.6 KiB.                                    \n"
     ]
    }
   ],
   "source": [
    "# copying our model from memroy to cloud storage\n",
    "!gsutil cp ./model.bst $MODEL_BUCKET"
   ]
  },
  {
   "cell_type": "code",
   "execution_count": 43,
   "id": "7db3ced9-5731-4272-adb3-154e4f7ade4c",
   "metadata": {},
   "outputs": [
    {
     "name": "stdout",
     "output_type": "stream",
     "text": [
      "Using endpoint [https://us-central1-aiplatform.googleapis.com/]\n",
      "Waiting for operation [7549294184029487104]...done.                            \n"
     ]
    }
   ],
   "source": [
    "# uploading our model from cloud storage to models in VertexAI using container to deply the model\n",
    "!gcloud beta ai models upload \\\n",
    "--display-name=$MODEL_NAME \\\n",
    "--artifact-uri=$MODEL_BUCKET \\\n",
    "--container-image-uri=us-docker.pkg.dev/cloud-aiplatform/prediction/xgboost-cpu.1-2:latest \\\n",
    "--region=us-central1"
   ]
  },
  {
   "cell_type": "markdown",
   "id": "3056032b-9c5d-4e89-8d1e-612cf4d693f6",
   "metadata": {},
   "source": [
    "We obtain the model endpoint which can be further used to deploy in the endpoint configurations"
   ]
  },
  {
   "cell_type": "code",
   "execution_count": 44,
   "id": "a7fb1b1c-0a0f-4904-8181-860917876ccd",
   "metadata": {},
   "outputs": [],
   "source": [
    "# obtained after deploy of model on Vertex AI\n",
    "MODEL_ID = \"2917703637884993536\""
   ]
  },
  {
   "cell_type": "markdown",
   "id": "65dbc9a3-357a-4b4a-914f-fea8eb7cfc2c",
   "metadata": {},
   "source": [
    "Now we have to create an endpoint for outer world to access the model and predict with their data"
   ]
  },
  {
   "cell_type": "code",
   "execution_count": 45,
   "id": "523c2665-9263-4593-b84c-1d61cdd4af55",
   "metadata": {},
   "outputs": [
    {
     "name": "stdout",
     "output_type": "stream",
     "text": [
      "Using endpoint [https://us-central1-aiplatform.googleapis.com/]\n",
      "Waiting for operation [5741098933640232960]...done.                            \n",
      "Created Vertex AI endpoint: projects/358157140210/locations/us-central1/endpoints/5469137962325245952.\n"
     ]
    }
   ],
   "source": [
    "#Creating a model endpoint in the region us-central1\n",
    "!gcloud beta ai endpoints create \\\n",
    "--display-name=xgb_mortgage_v1 \\\n",
    "--region=us-central1"
   ]
  },
  {
   "cell_type": "code",
   "execution_count": 46,
   "id": "c4fa502a-8535-462c-b1a2-d24ae10729de",
   "metadata": {},
   "outputs": [],
   "source": [
    "# Endpoint id \n",
    "ENDPOINT_ID = \"5469137962325245952\""
   ]
  },
  {
   "cell_type": "code",
   "execution_count": 47,
   "id": "a8d3ab2e-7f1a-4525-9ad3-848b4eaaf9ff",
   "metadata": {},
   "outputs": [
    {
     "name": "stdout",
     "output_type": "stream",
     "text": [
      "Using endpoint [https://us-central1-aiplatform.googleapis.com/]\n",
      "Waiting for operation [2302600618142859264]...done.                            \n",
      "Deployed a model to the endpoint 5469137962325245952. Id of the deployed model: 6794075862074392576.\n"
     ]
    }
   ],
   "source": [
    "# Deploying the endpoint on a compute engine machine (n1-standard-2)\n",
    "!gcloud beta ai endpoints deploy-model $ENDPOINT_ID \\\n",
    "--region=us-central1 \\\n",
    "--model=$MODEL_ID \\\n",
    "--display-name=xgb_mortgage_v1 \\\n",
    "--machine-type=n1-standard-2 \\\n",
    "--traffic-split=0=100"
   ]
  },
  {
   "cell_type": "markdown",
   "id": "59c365c6-52d6-4fee-b3c5-3d9a03b28de6",
   "metadata": {},
   "source": [
    "We can now access the deployed model for predictions"
   ]
  },
  {
   "cell_type": "code",
   "execution_count": 48,
   "id": "1d696b19-b94d-442d-9f47-c6bffe805cb1",
   "metadata": {},
   "outputs": [
    {
     "name": "stdout",
     "output_type": "stream",
     "text": [
      "Writing predictions.json\n"
     ]
    }
   ],
   "source": [
    "#Testing with a sample data point \n",
    "%%writefile predictions.json\n",
    "{\n",
    "  \"instances\": [\n",
    "    [2016.0, 1.0, 346.0, 27.0, 211.0, 4530.0, 86700.0, 132.13, 1289.0, 1408.0, 0.0, 0.0, 0.0, 0.0, 1.0, 0.0, 1.0, 0.0, 0.0, 0.0, 0.0, 1.0, 0.0, 1.0, 0.0, 1.0, 0.0, 0.0, 0.0, 1.0, 0.0, 0.0, 0.0, 0.0, 0.0, 0.0, 0.0, 0.0, 0.0, 1.0, 0.0, 0.0, 1.0, 0.0]\n",
    "  ]\n",
    "}"
   ]
  },
  {
   "cell_type": "code",
   "execution_count": 49,
   "id": "6fff85b2-0caa-43be-9337-d8375db7b360",
   "metadata": {},
   "outputs": [
    {
     "name": "stdout",
     "output_type": "stream",
     "text": [
      "Using endpoint [https://us-central1-prediction-aiplatform.googleapis.com/]\n",
      "[0.9999953508377075]\n"
     ]
    }
   ],
   "source": [
    "# making a prediction with the sample data point \n",
    "!gcloud beta ai endpoints predict $ENDPOINT_ID \\\n",
    "--json-request=predictions.json \\\n",
    "--region=us-central1"
   ]
  },
  {
   "cell_type": "markdown",
   "id": "633062f0-032b-43ee-99f4-8b66d2400ecb",
   "metadata": {},
   "source": [
    "We get this prediction as approved since it gives 0.99 value in favour of \"1\""
   ]
  },
  {
   "cell_type": "code",
   "execution_count": null,
   "id": "825832d2-4040-400b-9543-d7fe1551f07f",
   "metadata": {},
   "outputs": [],
   "source": []
  }
 ],
 "metadata": {
  "environment": {
   "kernel": "python3",
   "name": "tf2-gpu.2-7.m87",
   "type": "gcloud",
   "uri": "gcr.io/deeplearning-platform-release/tf2-gpu.2-7:m87"
  },
  "kernelspec": {
   "display_name": "Python 3",
   "language": "python",
   "name": "python3"
  },
  "language_info": {
   "codemirror_mode": {
    "name": "ipython",
    "version": 3
   },
   "file_extension": ".py",
   "mimetype": "text/x-python",
   "name": "python",
   "nbconvert_exporter": "python",
   "pygments_lexer": "ipython3",
   "version": "3.7.12"
  }
 },
 "nbformat": 4,
 "nbformat_minor": 5
}
